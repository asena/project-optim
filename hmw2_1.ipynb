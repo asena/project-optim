{
 "cells": [
  {
   "cell_type": "markdown",
   "metadata": {},
   "source": [
    "# Homework 2 - Problem 1\n",
    "### Optimization theory with applications\n",
    "\n",
    "\n",
    "#### Andrea Senacheribbe\n",
    "---"
   ]
  },
  {
   "cell_type": "code",
   "execution_count": 1,
   "metadata": {},
   "outputs": [],
   "source": [
    "import numpy as np\n",
    "import matplotlib.pyplot as plt"
   ]
  },
  {
   "cell_type": "markdown",
   "metadata": {},
   "source": [
    "The function we want to minimise is\n",
    "\n",
    "$$f(x_1, x_2, ..., x_m)= \\sum_{i=1}^{m} a_i(x_i-b_i)^2 \\ + 3$$\n",
    "\n",
    "for which we assume $a_i>0$ to have convexity.\n"
   ]
  },
  {
   "cell_type": "markdown",
   "metadata": {},
   "source": [
    "We can compute the gradient of $f$, which is\n",
    "\n",
    "$$ \\nabla f(\\underline{x})\\ |_i= 2 a_i (x_i - b_i)$$\n",
    "\n",
    "for each component $i$."
   ]
  },
  {
   "cell_type": "markdown",
   "metadata": {},
   "source": [
    "By imposing $\\nabla f(\\underline{x}) = 0$ we can analytically compute the minumum of the function:\n",
    "\n",
    "$$ \\nabla f(\\underline{x}) = 0 \\implies x_i^*=b_i \\quad \\forall i$$\n",
    "\n",
    "$$ f (\\underline{x}^*)=3$$\n",
    "\n",
    "We use this to compare with the numerical result we get by running the optimisation algorithms."
   ]
  },
  {
   "cell_type": "markdown",
   "metadata": {},
   "source": [
    "The Hessian is instead a diagonal matrix, given by\n",
    "\n",
    "$$ \\nabla^2 f(\\underline{x})\\ |_{i=j}= 2 a_i$$\n",
    "for component $i=j$ and $0$ elsewhere.\n",
    "\n",
    "Notice that since the matrix is diagonal, the eigenvalues are simply the elements on the diagonal.\n",
    "\n",
    "$$\\lambda_{max}=max (2 a_i)\\quad\n",
    "\\lambda_{min}=min(2 a_i)$$\n",
    "\n",
    "By chosing $a_i>0$, the function results both Lipschitz ($L=\\lambda_{max}$) and strongly convex ($m=\\lambda_{min}$)."
   ]
  },
  {
   "cell_type": "code",
   "execution_count": 2,
   "metadata": {},
   "outputs": [],
   "source": [
    "f = lambda x,a,b: np.sum(a*((x-b)**2))+3\n",
    "\n",
    "grad_f = lambda x,a,b: 2*a*(x-b) #elementwise multiplication\n",
    "\n",
    "f_opt=3"
   ]
  },
  {
   "cell_type": "markdown",
   "metadata": {},
   "source": [
    "## 1) Gradient descent algorithm with fixed step size"
   ]
  },
  {
   "cell_type": "code",
   "execution_count": 3,
   "metadata": {},
   "outputs": [],
   "source": [
    "def grad_desc_fixt(x0, grad, fun, t, eps=1e-6, max_iter=10000):\n",
    "    x=np.ones(x0.size, dtype=np.float64)\n",
    "    g=np.ones(x0.size, dtype=np.float64)\n",
    "    f=np.ones(max_iter, dtype=np.float64)\n",
    "\n",
    "    x=x0.copy()\n",
    "    \n",
    "    for k in range(max_iter-1):\n",
    "        g=grad(x)\n",
    "        f[k]=fun(x)\n",
    "        \n",
    "        if np.linalg.norm(g, 2) < eps:\n",
    "            print(\"converged after %d iterations\" % k)\n",
    "            break\n",
    "        \n",
    "        x=x-t*g\n",
    "        \n",
    "    else: #reached max_iter-1\n",
    "        k=max_iter-1\n",
    "        f[k]=fun(x)\n",
    "\n",
    "        print(\"stopped since reached max_iter\")\n",
    "        \n",
    "    return x, f[:k+1]"
   ]
  },
  {
   "cell_type": "markdown",
   "metadata": {},
   "source": [
    "## 2) Gradient descent algorithm with backtracking"
   ]
  },
  {
   "cell_type": "code",
   "execution_count": 4,
   "metadata": {},
   "outputs": [],
   "source": [
    "def grad_desc_bkt(x0, grad, fun, t_init, alpha=0.5, beta=0.5, eps=1e-6, max_iter=10000):\n",
    "    x=np.ones(x0.size, dtype=np.float64)\n",
    "    g=np.ones(x0.size, dtype=np.float64)\n",
    "    f=np.ones(max_iter, dtype=np.float64)\n",
    "\n",
    "    x=x0.copy()\n",
    "    t=t_init\n",
    "    \n",
    "    for k in range(max_iter-1):\n",
    "        g=grad(x)\n",
    "        f[k]=fun(x)\n",
    "        \n",
    "        norm_g=np.linalg.norm(g, 2)\n",
    "        if  norm_g < eps:\n",
    "            print(\"converged after %d iterations\" % k)\n",
    "            break\n",
    "            \n",
    "        m=alpha*(norm_g**2)\n",
    "        while fun(x-t*g) > f[k]-t*m:\n",
    "            t*=beta\n",
    "            \n",
    "        x=x-t*g\n",
    "        \n",
    "    else: #reached max_iter-1\n",
    "        k=max_iter-1\n",
    "        f[k]=fun(x)\n",
    "        print(\"stopped since reached max_iter\")\n",
    "        \n",
    "    return x, f[:k+1]"
   ]
  },
  {
   "cell_type": "markdown",
   "metadata": {},
   "source": [
    "## 3) Function with low condition number"
   ]
  },
  {
   "cell_type": "markdown",
   "metadata": {},
   "source": [
    "We set $m=500$, $a_i=1$, $b_i=\\textit{uniform_integer}(0,100)$ and $x_i=0$"
   ]
  },
  {
   "cell_type": "code",
   "execution_count": 5,
   "metadata": {},
   "outputs": [],
   "source": [
    "np.random.seed(1) # set the seed so to have consistent results among different runnings"
   ]
  },
  {
   "cell_type": "code",
   "execution_count": 6,
   "metadata": {},
   "outputs": [
    {
     "data": {
      "text/plain": [
       "((500,), (500,))"
      ]
     },
     "execution_count": 6,
     "metadata": {},
     "output_type": "execute_result"
    }
   ],
   "source": [
    "m=500\n",
    "a=np.ones(m)\n",
    "b=np.random.randint(0,100+1, size=m)\n",
    "a.shape, b.shape"
   ]
  },
  {
   "cell_type": "code",
   "execution_count": 7,
   "metadata": {},
   "outputs": [],
   "source": [
    "x0=np.zeros(m)"
   ]
  },
  {
   "cell_type": "code",
   "execution_count": 8,
   "metadata": {},
   "outputs": [
    {
     "name": "stdout",
     "output_type": "stream",
     "text": [
      "fixed t=0.45\t\tconverged after 10 iterations\n",
      "fixed t=0.50\t\tconverged after 1 iterations\n",
      "backtrack t_init=1.00\tconverged after 1 iterations\n",
      "backtrack t_init=5.00\tconverged after 23 iterations\n"
     ]
    },
    {
     "data": {
      "image/png": "[encoded data removed]",
      "text/plain": [
       "<Figure size 864x432 with 1 Axes>"
      ]
     },
     "metadata": {
      "needs_background": "light"
     },
     "output_type": "display_data"
    }
   ],
   "source": [
    "t_s=[0.45, 0.5]\n",
    "t_init_s=[1, 5]\n",
    "\n",
    "plt.figure(figsize=(12,6))\n",
    "for t in t_s:\n",
    "    print(\"fixed t=%.2f\\t\\t\"%t, end='')\n",
    "    x_fixt,f_fixt=grad_desc_fixt(x0, lambda x: grad_f(x,a,b),lambda x: f(x,a,b), t)\n",
    "    plt.semilogy(np.abs(f_fixt-f_opt))\n",
    "    \n",
    "for t_init in t_init_s:\n",
    "    print(\"backtrack t_init=%.2f\\t\"%t_init, end='')\n",
    "    x_bkt,f_bkt=grad_desc_bkt(x0, lambda x: grad_f(x,a,b), lambda x: f(x,a,b), t_init)\n",
    "    plt.semilogy(np.abs(f_bkt-f_opt), '--')\n",
    "\n",
    "plt.ylabel(\"$|f(x^{k}) - f^*|$\")\n",
    "plt.xlabel(\"k, iteration\")\n",
    "plt.legend([\"fix t=%.2f\" % t for t in t_s] +[\"backtrack $t_{init}$=%.2f\" % t_init for t_init in t_init_s]);"
   ]
  },
  {
   "cell_type": "code",
   "execution_count": 9,
   "metadata": {},
   "outputs": [
    {
     "name": "stdout",
     "output_type": "stream",
     "text": [
      "fixed t=0.20\t\tconverged after 43 iterations\n",
      "fixed t=0.40\t\tconverged after 14 iterations\n",
      "fixed t=0.45\t\tconverged after 10 iterations\n",
      "fixed t=0.50\t\tconverged after 1 iterations\n",
      "fixed t=0.55\t\tconverged after 10 iterations\n",
      "fixed t=0.60\t\tconverged after 14 iterations\n",
      "fixed t=0.80\t\tconverged after 43 iterations\n",
      "fixed t=1.00\t\tstopped since reached max_iter\n",
      "\n",
      "\n",
      "backtrack t_init=0.20\tconverged after 43 iterations\n",
      "backtrack t_init=0.40\tconverged after 14 iterations\n",
      "backtrack t_init=0.50\tconverged after 1 iterations\n",
      "backtrack t_init=0.60\tconverged after 24 iterations\n",
      "backtrack t_init=0.80\tconverged after 14 iterations\n",
      "backtrack t_init=1.00\tconverged after 1 iterations\n",
      "backtrack t_init=5.00\tconverged after 23 iterations\n",
      "backtrack t_init=10.00\tconverged after 23 iterations\n"
     ]
    }
   ],
   "source": [
    "t_s=[0.2, 0.4,0.45, 0.5, 0.55, 0.6, 0.8, 1]\n",
    "t_init_s=[0.2, 0.4, 0.5, 0.6, 0.8, 1, 5, 10]\n",
    "\n",
    "for t in t_s:\n",
    "    print(\"fixed t=%.2f\\t\\t\"%t, end='')\n",
    "    grad_desc_fixt(x0, lambda x: grad_f(x,a,b),lambda x: f(x,a,b), t)\n",
    "\n",
    "print('\\n')\n",
    "    \n",
    "for t_init in t_init_s:\n",
    "    print(\"backtrack t_init=%.2f\\t\"%t_init, end='')\n",
    "    grad_desc_bkt(x0, lambda x: grad_f(x,a,b), lambda x: f(x,a,b), t_init)"
   ]
  },
  {
   "cell_type": "markdown",
   "metadata": {},
   "source": [
    "### Stopping condition\n",
    "\n",
    "For both algorithms the chosen stopping condition is on the norm of the gradient $|| \\nabla f(x) ||_2 < \\epsilon$. Since the function is convex, when the gradient becomes small we are close to the minimum ($\\nabla f(x) =0$). To avoid infinite loop, the algorithm is also stopped if a maximum number of iterations is exceeded."
   ]
  },
  {
   "cell_type": "markdown",
   "metadata": {},
   "source": [
    "### Step size and convergence for gradient descent with fixed step size\n",
    "\n",
    "Different values of step size are chosen and compared against each others. Recalling from above that the function is Lipschitz and stongly convex with $L=\\lambda_{max}=2$ and $m=\\lambda_{min}=2$, we can compute the maximum step size to guarantee exponential convergence $O(log(1/e))$ (which corresponds to a line in log scale) as following:\n",
    "\n",
    "$$\n",
    "t\\le \\frac{2}{m+L}=0.5\n",
    "$$\n",
    "\n",
    "Indeed from the plots we can notice a exponential convergence for the cases t=0.45. For t=0.5 the algorithms converges after only one iteration.\n",
    "\n",
    "In the table above, we run the simualation with additional values of $t$. We can notice that for $t=[0.55, 0.6, 0.8]$ we still have exponential convergence but with an higher number of iterations. With $t=1$ the algorithm is not able to converge and it's stopped since it reaches the maximum number of iterations (10000).\n",
    "\n",
    "### Step size and convergence for gradient descent with backtracking\n",
    "For the case with backtracking the choice of $t$ is much less critical, since the algorithm is able to adjust it to the function analysed. Indeed as can be seen from the table, even an initial choice of $t=10$ allows the algorithm to converge. From the plot we can notice that the convergence is still exponential, similar to the one of gradient descent with fixed step size.\n"
   ]
  },
  {
   "cell_type": "markdown",
   "metadata": {},
   "source": [
    "Good convergence also for the point $x$ with respect to the actual minimum $x^*=b$ :"
   ]
  },
  {
   "cell_type": "code",
   "execution_count": 10,
   "metadata": {},
   "outputs": [
    {
     "data": {
      "text/plain": [
       "(0.0, 2.0511206851967165e-07)"
      ]
     },
     "execution_count": 10,
     "metadata": {},
     "output_type": "execute_result"
    }
   ],
   "source": [
    "np.linalg.norm(b-x_fixt, 2), np.linalg.norm(b-x_bkt, 2)"
   ]
  },
  {
   "cell_type": "markdown",
   "metadata": {},
   "source": [
    "# 4) Function with high condition number"
   ]
  },
  {
   "cell_type": "markdown",
   "metadata": {},
   "source": [
    "We set $m=500$, $a_i=\\textit{uniform_integer}(1,100)$, $b_i=\\textit{uniform_integer}(1,100)$ and $x_i=0$"
   ]
  },
  {
   "cell_type": "code",
   "execution_count": 11,
   "metadata": {},
   "outputs": [],
   "source": [
    "np.random.seed(2)"
   ]
  },
  {
   "cell_type": "code",
   "execution_count": 12,
   "metadata": {},
   "outputs": [
    {
     "data": {
      "text/plain": [
       "((500,), (500,))"
      ]
     },
     "execution_count": 12,
     "metadata": {},
     "output_type": "execute_result"
    }
   ],
   "source": [
    "m=500\n",
    "a=np.random.randint(1,100+1, size=m)\n",
    "b=np.random.randint(1,100+1, size=m)\n",
    "a.shape, b.shape"
   ]
  },
  {
   "cell_type": "code",
   "execution_count": 13,
   "metadata": {},
   "outputs": [],
   "source": [
    "x0=np.zeros(m)"
   ]
  },
  {
   "cell_type": "markdown",
   "metadata": {},
   "source": [
    "Notice that by setting $a_i$ in the range $[1,100]$ we have an higher condition number $L/m =  100$. \n",
    "The function is no longer symmetric but has different slopes from different axis."
   ]
  },
  {
   "cell_type": "code",
   "execution_count": 14,
   "metadata": {},
   "outputs": [
    {
     "name": "stdout",
     "output_type": "stream",
     "text": [
      "L = 200     m = 2     L/m = 100.0\n"
     ]
    }
   ],
   "source": [
    "print(\"L =\", 2*np.max(a), \"    m =\", 2*np.min(a), \"    L/m =\", np.max(a)/np.min(a))"
   ]
  },
  {
   "cell_type": "code",
   "execution_count": 15,
   "metadata": {},
   "outputs": [
    {
     "name": "stdout",
     "output_type": "stream",
     "text": [
      "fixed t=0.009901\tconverged after 1191 iterations\n",
      "backtrack t_init=0.50\tconverged after 2461 iterations\n"
     ]
    },
    {
     "data": {
      "image/png": "[encoded data removed]",
      "text/plain": [
       "<Figure size 864x432 with 1 Axes>"
      ]
     },
     "metadata": {
      "needs_background": "light"
     },
     "output_type": "display_data"
    }
   ],
   "source": [
    "t=1/(np.min(a)+np.max(a))\n",
    "t_init=.5\n",
    "\n",
    "plt.figure(figsize=(12,6))\n",
    "\n",
    "print(\"fixed t=%f\\t\"%t, end='')\n",
    "x_fixt,f_fixt=grad_desc_fixt(x0, lambda x: grad_f(x,a,b),lambda x: f(x,a,b), t, max_iter=10000)\n",
    "plt.semilogy(np.abs(f_fixt-f_opt))\n",
    "\n",
    "print(\"backtrack t_init=%.2f\\t\"%t_init, end='')\n",
    "x_bkt,f_bkt=grad_desc_bkt(x0, lambda x: grad_f(x,a,b), lambda x: f(x,a,b), t_init, max_iter=10000)\n",
    "plt.semilogy(np.abs(f_bkt-f_opt))\n",
    "\n",
    "plt.ylabel(\"$|f(x^{k}) - f^*|$\")\n",
    "plt.xlabel(\"iteration, k\")\n",
    "plt.legend([\"fix t=%f\" % t, \"backtrack $t_{init}$=%.2f\" % t_init]);"
   ]
  },
  {
   "cell_type": "markdown",
   "metadata": {},
   "source": [
    "### Stopping condition\n",
    "The same stopping condition of before is applied, $|| \\nabla f(x) ||_2 < \\epsilon$.\n",
    "\n",
    "### Step size and convergence for gradient descent with fixed step size\n",
    "From $L$ and $m$ computed before, we can obtain the maximum step size to guarantee exponential convergence\n",
    "\n",
    "$$\n",
    "t\\le \\frac{2}{m+L}=0.009901\n",
    "$$\n",
    "\n",
    "Indeed by choosing this value for $t$ the algorithm converges again exponentially, but takes many more iterations than 3) because of the higher condition number.\n",
    "\n",
    "### Step size and convergence for gradient descent with fixed step size\n",
    "Again the choice of the initial step size is not critical. The algorithm converges exponentially (asymptotically), even if it requires more iteration then the standard gradient descent with fixed value for $t$"
   ]
  },
  {
   "cell_type": "markdown",
   "metadata": {},
   "source": [
    "Again good convergence of the point $x$ with respect to the actual minimum $x^*=b$ :"
   ]
  },
  {
   "cell_type": "code",
   "execution_count": 16,
   "metadata": {},
   "outputs": [
    {
     "data": {
      "text/plain": [
       "(7.3350806574294104e-09, 4.97657290731376e-07)"
      ]
     },
     "execution_count": 16,
     "metadata": {},
     "output_type": "execute_result"
    }
   ],
   "source": [
    "np.linalg.norm(b-x_fixt, 2), np.linalg.norm(b-x_bkt, 2)"
   ]
  }
 ],
 "metadata": {
  "kernelspec": {
   "display_name": "project-optim",
   "language": "python",
   "name": "project-optim"
  },
  "language_info": {
   "codemirror_mode": {
    "name": "ipython",
    "version": 3
   },
   "file_extension": ".py",
   "mimetype": "text/x-python",
   "name": "python",
   "nbconvert_exporter": "python",
   "pygments_lexer": "ipython3",
   "version": "3.8.1"
  }
 },
 "nbformat": 4,
 "nbformat_minor": 4
}
