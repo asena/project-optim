{
 "cells": [
  {
   "cell_type": "markdown",
   "metadata": {},
   "source": [
    "# Homework 2 - Problem 2\n",
    "### Optimization theory with applications\n",
    "\n",
    "\n",
    "#### Andrea Senacheribbe\n",
    "---"
   ]
  },
  {
   "cell_type": "markdown",
   "metadata": {},
   "source": [
    "The minimisation problem we are considering is:\n",
    "\n",
    "$$ \\min_{x}{f(x)} \\quad \\textit{st} \\quad \\sum_{i=1}^{m} x_i \\le 100 \\quad \\textit{and} \\quad x_i \\ge 0, \\forall i \\ge 1 $$\n",
    "\n",
    "where\n",
    "$f(x_1, x_2, ..., x_m)= \\sum_{i=1}^{m} a_i(x_i-b_i)^2 + 3$ $\\quad$\n",
    "\n",
    "---\n",
    "\n",
    "We can derive the Lagrangian, by rewriting the inequalities in the form $h_i(x)\\le 0$ and introducing the multipliers $u$:\n",
    "\n",
    "$$\\mathcal{L} (x,u)= f(x) + u_0\\left(\\sum_i{x_i} -100\\right) + u_{1...m}^T(-x)$$\n",
    "Note that $u$ is a vector with $m+1$ elements: $u_0$ is associated with the constraint on the summation, while  $u_{1...m}$ with the constraints on the individual $x_i$. Notice that the index $i$ in $x_i$ starts from 1.\n",
    "\n",
    "\n",
    "The dual problem becomes therefore\n",
    "\n",
    "\n",
    "\n",
    "$$\\max_{u}{g(u)} \\quad \\textit{st} \\quad u_i\\ge0, \\forall i$$\n",
    "\n",
    "where $g(u)= \\min_{x}{\\mathcal{L} (x,u)}$\n"
   ]
  },
  {
   "cell_type": "markdown",
   "metadata": {},
   "source": [
    "## 1) KKT conditions\n",
    "\n",
    "We can write the KKT conditions as follow\n",
    "\n",
    "1) stationarity \n",
    "$$ \\frac{\\partial \\mathcal{L}}{\\partial x_i} = 2 a_i (x_i - b_i) +u_0 - u_i = 0$$\n",
    "\n",
    "\n",
    "2) complementary slackness\n",
    "$$ u_0\\left(\\sum_i{x_i} -100\\right) = 0$$\n",
    "$$ u_i x_i =0,\\, \\forall i \\ge 1$$\n",
    "\n",
    "\n",
    "3) primal feasibility\n",
    "$$\\sum_{i} x_i \\le 100$$\n",
    "$$-x_i \\le 0, \\forall i \\ge 1$$\n",
    "\n",
    "\n",
    "\n",
    "4) dual feasibility\n",
    "$$u_i\\ge0,\\, \\forall i$$\n"
   ]
  },
  {
   "cell_type": "markdown",
   "metadata": {},
   "source": [
    "### Some insights on the problem using the KKT\n",
    "From 1) and 2) for a generic $i\\ge 1$ we can state the following\n",
    "\n",
    "$\\textit{if} \\quad  x_i\\neq 0 \\implies u_i = 0 $\n",
    "\n",
    "$\\quad  2 a_i (x_i - b_i) + u_0 = 0 \\iff x_i = b_i - \\frac{u_0}{2 a_i}$\n",
    "\n",
    "Since $ x_i > 0 $, we have $ b_i - \\frac{ u_{0} }{2 a_i} = x_i >  0 \\implies u_{0} < 2 a_i b_i $"
   ]
  },
  {
   "cell_type": "markdown",
   "metadata": {},
   "source": [
    "---\n",
    "\n",
    "From 1) and 4) we can write\n",
    "\n",
    "$ 2 a_i (x_i - b_i) +u_{0} = u_i \\ge 0 \\implies  2 a_i (x_i - b_i) +u_{0} \\ge 0 \\implies  x_i \\ge b_i - \\frac{u_{0}}{2 a_i}$\n",
    "\n",
    "We can use this result to derive the complementary case of above, using again 2)\n",
    "\n",
    "$\\textit{if} \\quad  u_i\\neq 0 \\implies x_i = 0$\n",
    "\n",
    "$\\quad 0= x_i \\ge b_i - \\frac{u_0}{2 a_i} \\implies u_{0} \\ge 2 a_i b_i  $"
   ]
  },
  {
   "cell_type": "markdown",
   "metadata": {},
   "source": [
    "---\n",
    "Overall we can write then\n",
    "\n",
    "$x_i=\\begin{cases}\n",
    "    b_i - \\frac{u_{0}}{2 a_i} & u_{0} < 2 a_i b_i\\\\\n",
    "    0 & u_0 \\ge 2 a_i b_i\n",
    "  \\end{cases}$\n",
    "  \n",
    "or equivalenty $x_i=max(0, b_i - \\frac{u_{0}}{2 a_i})$. To have $x$ feasible we should also impose $\\sum_{i} x_i \\le 100$.\n",
    "\n",
    "With this method we didn't end with a complete analytic solution, but we can at least understand the actual form of the solution."
   ]
  },
  {
   "cell_type": "code",
   "execution_count": 1,
   "metadata": {},
   "outputs": [],
   "source": [
    "import numpy as np\n",
    "import matplotlib.pyplot as plt"
   ]
  },
  {
   "cell_type": "code",
   "execution_count": 2,
   "metadata": {},
   "outputs": [],
   "source": [
    "f = lambda x,a,b: np.sum(a*((x-b)**2))+3"
   ]
  },
  {
   "cell_type": "code",
   "execution_count": 3,
   "metadata": {},
   "outputs": [],
   "source": [
    "np.random.seed(1)"
   ]
  },
  {
   "cell_type": "code",
   "execution_count": 4,
   "metadata": {},
   "outputs": [
    {
     "data": {
      "text/plain": [
       "((500,), (500,))"
      ]
     },
     "execution_count": 4,
     "metadata": {},
     "output_type": "execute_result"
    }
   ],
   "source": [
    "m=500\n",
    "a=np.random.randint(1,100+1, size=m)\n",
    "b=np.random.randint(1,100+1, size=m)\n",
    "a.shape, b.shape"
   ]
  },
  {
   "cell_type": "markdown",
   "metadata": {},
   "source": [
    "## 2) Dual ascent\n",
    "\n",
    "The dual ascent algorithm allows to solve a minimisation problem with equalities and inequalities constraints, by maximising the dual of $f$.\n",
    "\n",
    "Our optimisation problem can be reformulated as\n",
    "\n",
    "$$\\min_{x}{f(x)} \\quad \\textit{st} \\quad  Cx \\le d $$\n",
    "\n",
    "where $C$ is a matrix $(m+1, m)$, associated with the constrain reported above.\n",
    "\n",
    "In particular the first row of C is full of ones to represent the constraint $\\sum_{i} x_i \\le 100$, while the other $m$ rows have $-1$ on the diagonal, and represent the constraints $-x_i \\le 0, \\forall i \\ge 1$"
   ]
  },
  {
   "cell_type": "code",
   "execution_count": 5,
   "metadata": {},
   "outputs": [
    {
     "data": {
      "text/plain": [
       "array([[ 1.,  1.,  1., ...,  1.,  1.,  1.],\n",
       "       [-1., -0., -0., ..., -0., -0., -0.],\n",
       "       [-0., -1., -0., ..., -0., -0., -0.],\n",
       "       ...,\n",
       "       [-0., -0., -0., ..., -1., -0., -0.],\n",
       "       [-0., -0., -0., ..., -0., -1., -0.],\n",
       "       [-0., -0., -0., ..., -0., -0., -1.]])"
      ]
     },
     "execution_count": 5,
     "metadata": {},
     "output_type": "execute_result"
    }
   ],
   "source": [
    "C=np.concatenate([np.ones((1,m)),-np.eye(m)],axis=0)\n",
    "C"
   ]
  },
  {
   "cell_type": "code",
   "execution_count": 6,
   "metadata": {},
   "outputs": [
    {
     "data": {
      "text/plain": [
       "(501, 500)"
      ]
     },
     "execution_count": 6,
     "metadata": {},
     "output_type": "execute_result"
    }
   ],
   "source": [
    "C.shape"
   ]
  },
  {
   "cell_type": "markdown",
   "metadata": {},
   "source": [
    "---\n",
    "\n",
    "$d$ is instead formed by putting $100$ in the first row (for the copuling constraint on the summation) and $0$ elsewhere. "
   ]
  },
  {
   "cell_type": "code",
   "execution_count": 7,
   "metadata": {},
   "outputs": [
    {
     "data": {
      "text/plain": [
       "array([100.,   0.,   0.,   0.])"
      ]
     },
     "execution_count": 7,
     "metadata": {},
     "output_type": "execute_result"
    }
   ],
   "source": [
    "d=np.zeros(m+1, dtype=np.float64)\n",
    "d[0]=100\n",
    "d[:4] # printing first 4 rows"
   ]
  },
  {
   "cell_type": "markdown",
   "metadata": {},
   "source": [
    "---\n",
    "\n",
    "To compare the result with our algorithm, we firstly solve the problem using ```scipy.optimize``` "
   ]
  },
  {
   "cell_type": "code",
   "execution_count": 8,
   "metadata": {},
   "outputs": [
    {
     "data": {
      "text/plain": [
       "(True, 'Optimization terminated successfully.', 80630285.25494224)"
      ]
     },
     "execution_count": 8,
     "metadata": {},
     "output_type": "execute_result"
    }
   ],
   "source": [
    "from scipy.optimize import LinearConstraint, minimize\n",
    "\n",
    "# here optimise sqrt(f(x)), since grows less rapidly and allow better convergence of the algorithm\n",
    "# x that minimises this problem will be the same of our problem\n",
    "min_sol=minimize(lambda x: np.sqrt(f(x,a,b)),np.ones(m), constraints=LinearConstraint(C,-np.inf, d))\n",
    "f_opt=f(min_sol.x, a,b)\n",
    "min_sol.success, min_sol.message, f_opt"
   ]
  },
  {
   "cell_type": "markdown",
   "metadata": {},
   "source": [
    "---\n",
    "\n",
    "Essentially the dual ascent algorithm works by doing gradient ascent on the dual variable $u$ and updating at each iteration the value $x$ by solving a minimisation problem.\n",
    "\n",
    "$$\n",
    "x^{k+1}= argmin_{x}{(f(x) + (u ^k)^T C x)}$$\n",
    "and\n",
    "$$\n",
    "u^{k+1}=max(u^k+t_k ( A x^{k+1} -b),0)\n",
    "$$"
   ]
  },
  {
   "cell_type": "markdown",
   "metadata": {},
   "source": [
    "---\n",
    "For our case we can derive a closed form for the argmin, by simply computing the gradient and setting it equal to 0:\n",
    "\n",
    "$$ \n",
    "\\nabla f(x) + (u ^k)^T C  =0\n",
    "$$\n",
    "therefore\n",
    "$$\n",
    "2 a_i (x_i - b_i) +(u ^k)^T C_i =0 \\implies x_i=b_i - \\frac{(u ^k)^T C_i}{2a_i}\n",
    "$$\n",
    "\n",
    "To help the algorithm we can clip to zero all the negative values of $x_i$ (recall that $x_i$ should be non negative).\n",
    "Notice that this step is not part of the dual ascend algorithm (indeed the algorithm works even when not clipping the negative values to 0), but from our tests this provides faster and better convergence."
   ]
  },
  {
   "cell_type": "code",
   "execution_count": 9,
   "metadata": {},
   "outputs": [],
   "source": [
    "argmin_f=lambda u: np.maximum(b-(u@C)/(2*a),0)"
   ]
  },
  {
   "cell_type": "code",
   "execution_count": 10,
   "metadata": {},
   "outputs": [],
   "source": [
    "def dual_ascent(u0, argmin, fun, t, C, d, eps=1e-5, max_iter=10000):\n",
    "    assert(u0.shape[0]==C.shape[0]==d.shape[0])\n",
    "    n_var,n_con=C.shape[1], u0.size\n",
    "    \n",
    "    x=np.empty(n_var, dtype=np.float64)\n",
    "    u=np.empty(n_con, dtype=np.float64)\n",
    "    f=np.empty(max_iter, dtype=np.float64)\n",
    "    \n",
    "    u=u0.copy()\n",
    "    \n",
    "    for k in range(max_iter-1):\n",
    "        \n",
    "        # solve argmin problem\n",
    "        x=argmin(u)\n",
    "        f[k]=fun(x)\n",
    "        \n",
    "        if  np.abs(f[k]-f[k-1]) < eps:\n",
    "            print(\"converged after %d iterations\" % k)\n",
    "            break\n",
    "\n",
    "        #update u\n",
    "\n",
    "        u=np.maximum(u+t*(C@x-d),0)\n",
    "        \n",
    "    else: #reached max_iter-1\n",
    "        k=max_iter-1\n",
    "        x=argmin(u)\n",
    "        f[k]=fun(x)\n",
    "\n",
    "        print(\"stopped since reached max_iter\")\n",
    "        \n",
    "    \n",
    "    return x, f[:k+1]"
   ]
  },
  {
   "cell_type": "code",
   "execution_count": 11,
   "metadata": {},
   "outputs": [
    {
     "data": {
      "text/plain": [
       "(501,)"
      ]
     },
     "execution_count": 11,
     "metadata": {},
     "output_type": "execute_result"
    }
   ],
   "source": [
    "u0=np.ones(m+1)\n",
    "u0.shape"
   ]
  },
  {
   "cell_type": "code",
   "execution_count": 12,
   "metadata": {},
   "outputs": [],
   "source": [
    "t=0.15"
   ]
  },
  {
   "cell_type": "code",
   "execution_count": 13,
   "metadata": {},
   "outputs": [
    {
     "name": "stdout",
     "output_type": "stream",
     "text": [
      "converged after 1977 iterations\n"
     ]
    }
   ],
   "source": [
    "x_da,f_da=dual_ascent(u0, argmin_f ,lambda x: f(x,a,b), t, C, d, max_iter=5000, eps=1e-4)"
   ]
  },
  {
   "cell_type": "code",
   "execution_count": 14,
   "metadata": {},
   "outputs": [
    {
     "data": {
      "image/png": "[encoded data removed]",
      "text/plain": [
       "<Figure size 864x432 with 1 Axes>"
      ]
     },
     "metadata": {
      "needs_background": "light"
     },
     "output_type": "display_data"
    }
   ],
   "source": [
    "plt.figure(figsize=(12,6))\n",
    "\n",
    "plt.semilogy(np.abs(f_da-f_opt))\n",
    "\n",
    "plt.ylabel(\"$|f(x^{k}) - f^*|$\")\n",
    "plt.xlabel(\"k, iteration\");"
   ]
  },
  {
   "cell_type": "markdown",
   "metadata": {},
   "source": [
    "Notice that all the constraints are respected:"
   ]
  },
  {
   "cell_type": "code",
   "execution_count": 15,
   "metadata": {},
   "outputs": [
    {
     "name": "stdout",
     "output_type": "stream",
     "text": [
      "sum(x_i) =\t\t 100.00000 \n",
      "# negatives x_i =\t 0\n"
     ]
    }
   ],
   "source": [
    "print(\"sum(x_i) =\\t\\t %.5f\" % np.sum(x_da), \"\\n# negatives x_i =\\t\",np.sum(x_da<0))"
   ]
  },
  {
   "cell_type": "markdown",
   "metadata": {},
   "source": [
    "### Analysis\n",
    "\n",
    "In the plot above, we report $|f(x^{k}) - f^*|$, that is the distance of the value of the function from the optimal computed before using ```scipy.optimize```.\n",
    "Notice that it is not meaningful to plot  $f(x^{k})$. The step of the dual ascent is not always a descent on $f(x)$ since it takes care also of the constraints (the function can increase at some point if it doesn't respect the constraints).\n",
    "\n",
    "\n",
    "By a trial and error proceedure, we concluded that $t=0.15$ yields the best convergence. As we can notice from the plot, the convergence is exponential (linear in log scale).\n",
    "\n",
    "For stopping condition, we can no longer use the check on the norm of the gradient (as we did in Problem 1), since now this may not converge to 0. Indeed for the gradient ascent in the variable $u$,  $\\nabla g(u)=C x -d$ and this will tend to be $Cx -d \\le 0$ (since it's a constraint of our minimisation problem).\n",
    "\n",
    "A reasonable choice seems to check the difference of the function we want to minimise ($f(x)$) with respect its value in the previous iteration: if the function is not changing we stop the execution. Therefore the stopping condition is $|f(x_{k})- f(x_{k-1})|<\\epsilon$"
   ]
  },
  {
   "cell_type": "markdown",
   "metadata": {},
   "source": [
    "## 3) Parallelisation"
   ]
  },
  {
   "cell_type": "markdown",
   "metadata": {},
   "source": [
    "The solution can be parallelised using dual decomposition. Indeed since the function to minimise can be decomposed in $m$ terms $f_i(x_i)$ that depends only on one variable $x_i$ (recall $f(x_1, x_2, ..., x_m)= \\sum_{i=1}^{m} a_i(x_i-b_i)^2 + 3$ ).\n",
    "\n",
    "This allows to split the argmin problem like follows:\n",
    "$$ x^{k+1}= argmin_{x}{(f(x) + (u ^k)^T C x)} \\iff x^{k+1}_i= argmin_{x_i}{(f_i(x_i) + (u ^k)^T C_i x_i)} $$\n",
    "\n",
    "In this way, we don't reduce the number of iterations required, because after each iteration we still need to gather all the $x_i$ and compute the updated $u^{k}$.\n",
    "\n",
    "Anyway this decomposition can speed up the execution time, since different cores/processors can run smaller argmin problems in parallel and so each iteration lasts less time."
   ]
  }
 ],
 "metadata": {
  "kernelspec": {
   "display_name": "project-optim",
   "language": "python",
   "name": "project-optim"
  },
  "language_info": {
   "codemirror_mode": {
    "name": "ipython",
    "version": 3
   },
   "file_extension": ".py",
   "mimetype": "text/x-python",
   "name": "python",
   "nbconvert_exporter": "python",
   "pygments_lexer": "ipython3",
   "version": "3.8.1"
  }
 },
 "nbformat": 4,
 "nbformat_minor": 4
}
